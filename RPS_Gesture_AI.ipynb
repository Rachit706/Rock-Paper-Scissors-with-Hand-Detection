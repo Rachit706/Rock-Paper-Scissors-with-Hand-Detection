{
 "cells": [
  {
   "cell_type": "code",
   "execution_count": 1,
   "id": "16439043",
   "metadata": {},
   "outputs": [],
   "source": [
    "# !pip install opencv-python mediapipe"
   ]
  },
  {
   "cell_type": "code",
   "execution_count": 2,
   "id": "84c72138",
   "metadata": {},
   "outputs": [],
   "source": [
    "# ✅ Import libraries\n",
    "import cv2\n",
    "import mediapipe as mp\n",
    "import random\n",
    "import time"
   ]
  },
  {
   "cell_type": "code",
   "execution_count": 3,
   "id": "ed0816a3",
   "metadata": {},
   "outputs": [],
   "source": [
    "# ✅ Initialize MediaPipe and Webcam\n",
    "mp_hands = mp.solutions.hands\n",
    "mp_drawing = mp.solutions.drawing_utils\n",
    "hands = mp_hands.Hands(max_num_hands=1, min_detection_confidence=0.75)\n",
    "\n",
    "cap = cv2.VideoCapture(0)\n",
    "\n",
    "if not cap.isOpened():\n",
    "    print(\"❌ Webcam not detected!\")\n",
    "    exit()"
   ]
  },
  {
   "cell_type": "code",
   "execution_count": 4,
   "id": "f11fa470",
   "metadata": {},
   "outputs": [],
   "source": [
    "# ✅ Gesture definitions and helper functions\n",
    "gestures = {\n",
    "    \"rock\": [0, 0, 0, 0, 0],\n",
    "    \"paper\": [1, 1, 1, 1, 1],\n",
    "    \"scissors\": [0, 1, 1, 0, 0]\n",
    "}\n",
    "\n",
    "def get_finger_state(hand_landmarks):\n",
    "    finger_states = []\n",
    "    tips = [8, 12, 16, 20]\n",
    "    for tip in tips:\n",
    "        finger_states.append(int(hand_landmarks.landmark[tip].y < hand_landmarks.landmark[tip - 2].y))\n",
    "    thumb = int(hand_landmarks.landmark[4].x > hand_landmarks.landmark[2].x)\n",
    "    finger_states.insert(0, thumb)\n",
    "    return finger_states\n",
    "\n",
    "def detect_gesture(finger_states):\n",
    "    for name, pattern in gestures.items():\n",
    "        if pattern == finger_states:\n",
    "            return name\n",
    "    return \"unknown\"\n",
    "\n",
    "def get_ai_move():\n",
    "    return random.choice(list(gestures.keys()))\n",
    "\n",
    "def get_winner(user, ai):\n",
    "    if user == ai:\n",
    "        return \"Draw\"\n",
    "    elif (user == \"rock\" and ai == \"scissors\") or          (user == \"paper\" and ai == \"rock\") or          (user == \"scissors\" and ai == \"paper\"):\n",
    "        return \"You Win!\"\n",
    "    else:\n",
    "        return \"You Lose!\" "
   ]
  },
  {
   "cell_type": "code",
   "execution_count": null,
   "id": "616109a5",
   "metadata": {},
   "outputs": [],
   "source": [
    "# ✅ Game Loop\n",
    "last_match_time = time.time()\n",
    "match_interval = 5\n",
    "your_move = \"None\"\n",
    "ai_move = \"None\"\n",
    "outcome = \"\"\n",
    "\n",
    "while True:\n",
    "    ret, frame = cap.read()\n",
    "    if not ret:\n",
    "        break\n",
    "\n",
    "    frame = cv2.flip(frame, 1)\n",
    "    rgb = cv2.cvtColor(frame, cv2.COLOR_BGR2RGB)\n",
    "    result = hands.process(rgb)\n",
    "    current_time = time.time()\n",
    "\n",
    "    if result.multi_hand_landmarks:\n",
    "        hand_landmarks = result.multi_hand_landmarks[0]\n",
    "        mp_drawing.draw_landmarks(frame, hand_landmarks, mp_hands.HAND_CONNECTIONS)\n",
    "\n",
    "        if current_time - last_match_time >= match_interval:\n",
    "            finger_state = get_finger_state(hand_landmarks)\n",
    "            your_move = detect_gesture(finger_state)\n",
    "            ai_move = get_ai_move()\n",
    "            outcome = get_winner(your_move, ai_move)\n",
    "            last_match_time = current_time\n",
    "            time.sleep(2)  # 2 seconds pause after move\n",
    "\n",
    "    cv2.putText(frame, f\"Your Move: {your_move.upper()}\", (10, 30),\n",
    "                cv2.FONT_HERSHEY_SIMPLEX, 1, (0, 255, 0), 2)\n",
    "    cv2.putText(frame, f\"AI Move: {ai_move.upper()}\", (10, 70),\n",
    "                cv2.FONT_HERSHEY_SIMPLEX, 1, (255, 0, 0), 2)\n",
    "\n",
    "    if current_time - last_match_time < 5:\n",
    "        cv2.putText(frame, f\"Result: {outcome}\", (10, 110),\n",
    "                    cv2.FONT_HERSHEY_SIMPLEX, 1, (0, 0, 255), 2)\n",
    "\n",
    "    countdown = max(0, int(match_interval - (current_time - last_match_time)))\n",
    "    cv2.putText(frame, f\"Next Match In: {countdown}s\", (10, 150),\n",
    "                cv2.FONT_HERSHEY_SIMPLEX, 1, (100, 255, 255), 2)\n",
    "\n",
    "    cv2.imshow(\"Rock-Paper-Scissors\", frame)\n",
    "\n",
    "    if cv2.waitKey(1) & 0xFF == 27:\n",
    "        break\n",
    "\n",
    "cap.release()\n",
    "cv2.destroyAllWindows()"
   ]
  }
 ],
 "metadata": {
  "kernelspec": {
   "display_name": "Python 3 (ipykernel)",
   "language": "python",
   "name": "python3"
  },
  "language_info": {
   "codemirror_mode": {
    "name": "ipython",
    "version": 3
   },
   "file_extension": ".py",
   "mimetype": "text/x-python",
   "name": "python",
   "nbconvert_exporter": "python",
   "pygments_lexer": "ipython3",
   "version": "3.10.11"
  }
 },
 "nbformat": 4,
 "nbformat_minor": 5
}
